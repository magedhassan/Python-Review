{
 "cells": [
  {
   "cell_type": "markdown",
   "metadata": {},
   "source": [
    "# Python Quick Review"
   ]
  },
  {
   "cell_type": "markdown",
   "metadata": {},
   "source": [
    "# Variable Declaration"
   ]
  },
  {
   "cell_type": "code",
   "execution_count": 1,
   "metadata": {
    "scrolled": true
   },
   "outputs": [
    {
     "name": "stdout",
     "output_type": "stream",
     "text": [
      "1 n 24\n"
     ]
    }
   ],
   "source": [
    "v1 , v2, v3 = 1 , \"n\", 24\n",
    "print(v1, v2, v3)"
   ]
  },
  {
   "cell_type": "code",
   "execution_count": 2,
   "metadata": {},
   "outputs": [
    {
     "name": "stdout",
     "output_type": "stream",
     "text": [
      "<class 'int'>\n",
      "<class 'str'>\n",
      "<class 'int'>\n"
     ]
    }
   ],
   "source": [
    "print(type(v1))\n",
    "print(type(v2))\n",
    "print(type(v3))"
   ]
  },
  {
   "cell_type": "code",
   "execution_count": 3,
   "metadata": {},
   "outputs": [
    {
     "name": "stdout",
     "output_type": "stream",
     "text": [
      "maged\n",
      "<class 'str'>\n"
     ]
    }
   ],
   "source": [
    "name = \"maged\"\n",
    "print(name)\n",
    "print(type(name))"
   ]
  },
  {
   "cell_type": "code",
   "execution_count": 4,
   "metadata": {},
   "outputs": [
    {
     "name": "stdout",
     "output_type": "stream",
     "text": [
      "magedelsayed\n",
      "12\n"
     ]
    }
   ],
   "source": [
    "name1 = \"maged\"\n",
    "name2 = \"elsayed\"\n",
    "print(name1 + name2)\n",
    "print(len(name1+name2))"
   ]
  },
  {
   "cell_type": "code",
   "execution_count": 5,
   "metadata": {},
   "outputs": [
    {
     "name": "stdout",
     "output_type": "stream",
     "text": [
      "True\n"
     ]
    }
   ],
   "source": [
    "x = True\n",
    "print(x)"
   ]
  },
  {
   "cell_type": "markdown",
   "metadata": {},
   "source": [
    "# String Methods"
   ]
  },
  {
   "cell_type": "code",
   "execution_count": 6,
   "metadata": {},
   "outputs": [
    {
     "name": "stdout",
     "output_type": "stream",
     "text": [
      "MAGED ELSAYED\n",
      "maged elsayed\n",
      "2\n"
     ]
    }
   ],
   "source": [
    "name = \"Maged Elsayed\"\n",
    "print(name.upper())\n",
    "print(name.lower())\n",
    "print(name.count(\"a\"))"
   ]
  },
  {
   "cell_type": "markdown",
   "metadata": {},
   "source": [
    "# Lists"
   ]
  },
  {
   "cell_type": "code",
   "execution_count": 7,
   "metadata": {},
   "outputs": [
    {
     "name": "stdout",
     "output_type": "stream",
     "text": [
      "['maged', 'mohy', 'mohamed']\n",
      "maged\n",
      "mohy\n",
      "mohamed\n",
      "3\n",
      "mohamed\n"
     ]
    }
   ],
   "source": [
    "names = [\"maged\", \"mohy\", \"mohamed\"]\n",
    "print(names)\n",
    "print(names[0])\n",
    "print(names[1])\n",
    "print(names[2])\n",
    "print(len(names))\n",
    "print(names[len(names)-1])  # printing the last element in the list, same as names[2] "
   ]
  },
  {
   "cell_type": "markdown",
   "metadata": {},
   "source": [
    "## List Slicing"
   ]
  },
  {
   "cell_type": "code",
   "execution_count": 32,
   "metadata": {},
   "outputs": [],
   "source": [
    "## two ways to define a list:"
   ]
  },
  {
   "cell_type": "code",
   "execution_count": 33,
   "metadata": {},
   "outputs": [
    {
     "name": "stdout",
     "output_type": "stream",
     "text": [
      "[0, 1, 2, 3, 4, 5, 6, 7, 8, 9]\n",
      "10\n",
      "[0, 1, 2, 3, 4, 5, 6, 7, 8, 9]\n",
      "10\n"
     ]
    }
   ],
   "source": [
    "ordered_1 = list(range(0,10))  # 10 is not included in the list \n",
    "ordered_2 = [0,1,2,3,4,5,6,7,8,9] # 0 ist ordered_2[0] and 9 is the ordered_2[10]\n",
    "\n",
    "print(ordered_1)\n",
    "print(len(ordered_2))\n",
    "print(ordered_2)\n",
    "print(len(ordered_2))"
   ]
  },
  {
   "cell_type": "code",
   "execution_count": 31,
   "metadata": {},
   "outputs": [],
   "source": [
    "# To access more than one elment in the list use slicing, i.e. calling rage if indices using []"
   ]
  },
  {
   "cell_type": "code",
   "execution_count": null,
   "metadata": {},
   "outputs": [],
   "source": [
    "print(ordered_1[2:10])\n",
    "print(ordered_1[2:]) # same as [2:10]"
   ]
  },
  {
   "cell_type": "code",
   "execution_count": 23,
   "metadata": {},
   "outputs": [
    {
     "name": "stdout",
     "output_type": "stream",
     "text": [
      "[0, 1, 2, 3, 4, 5, 6, 7, 8, 9]\n",
      "[0, 5, 10]\n"
     ]
    }
   ],
   "source": [
    "print(list(range(0,10)))\n",
    "print(list(range(0,11,5))) # step size is 5, so start with 0 then add 5 \n",
    "                           # then add 5 if still less than the last element on the range \n",
    "                           # then include it in the new list"
   ]
  },
  {
   "cell_type": "code",
   "execution_count": 30,
   "metadata": {},
   "outputs": [],
   "source": [
    "# slicing also applies to strings"
   ]
  },
  {
   "cell_type": "code",
   "execution_count": null,
   "metadata": {},
   "outputs": [],
   "source": [
    "name = \"maged\"  # [0]:m , [1]:a , [2]:g , [3]:e , [4]:d \n",
    "print(name[2:])"
   ]
  },
  {
   "cell_type": "markdown",
   "metadata": {},
   "source": [
    "# Membership Operators"
   ]
  },
  {
   "cell_type": "code",
   "execution_count": 29,
   "metadata": {},
   "outputs": [],
   "source": [
    "# in / not in"
   ]
  },
  {
   "cell_type": "code",
   "execution_count": 41,
   "metadata": {},
   "outputs": [
    {
     "name": "stdout",
     "output_type": "stream",
     "text": [
      "['jan', 'feb', 'march']\n",
      "True\n",
      "True\n",
      "True\n"
     ]
    }
   ],
   "source": [
    "months = [\"jan\", \"feb\", \"march\"]\n",
    "print(months)\n",
    "print(\"jan\" in months)\n",
    "print(\"april\" not in months)\n",
    "\n",
    "name = \"maged elsayed\"\n",
    "print(\"say\" in name)"
   ]
  },
  {
   "cell_type": "markdown",
   "metadata": {},
   "source": [
    "# Lists are Mutable"
   ]
  },
  {
   "cell_type": "code",
   "execution_count": 42,
   "metadata": {},
   "outputs": [],
   "source": [
    "# Mutable is to be liable to change"
   ]
  },
  {
   "cell_type": "code",
   "execution_count": 44,
   "metadata": {},
   "outputs": [],
   "source": [
    "# Lists are mutable"
   ]
  },
  {
   "cell_type": "code",
   "execution_count": 45,
   "metadata": {},
   "outputs": [],
   "source": [
    "# when creating a list and give it a name, this name will be just a reference to one list object in memory\n",
    "# copying the reference to another reference will still refer to the same object in memory"
   ]
  },
  {
   "cell_type": "code",
   "execution_count": 1,
   "metadata": {},
   "outputs": [],
   "source": [
    "# So when you want to copy a list it is better to use any mechanism ro ensure creating a new object in the memory\n",
    "# and not just creating a new reference to the same object in the memory"
   ]
  },
  {
   "cell_type": "code",
   "execution_count": 52,
   "metadata": {},
   "outputs": [
    {
     "name": "stdout",
     "output_type": "stream",
     "text": [
      "['maged', 'elsayed', 'mohamed']\n",
      "names:  ['deleted', 'elsayed', 'mohamed']\n",
      "other_names:  ['deleted', 'elsayed', 'mohamed']\n"
     ]
    }
   ],
   "source": [
    "names = [\"maged\", \"elsayed\", \"mohamed\"]\n",
    "print(names)\n",
    "other_names = names\n",
    "# change names\n",
    "names[0] = \"deleted\"\n",
    "print(\"names: \", names)\n",
    "print(\"other_names: \", other_names)"
   ]
  },
  {
   "cell_type": "markdown",
   "metadata": {},
   "source": [
    "# Strings are not Mutable\n"
   ]
  },
  {
   "cell_type": "code",
   "execution_count": 2,
   "metadata": {},
   "outputs": [],
   "source": [
    "# Strings are not mutable, meaning that copying the string name to another name \n",
    "# will create a new string in the memory"
   ]
  },
  {
   "cell_type": "code",
   "execution_count": 60,
   "metadata": {},
   "outputs": [
    {
     "name": "stdout",
     "output_type": "stream",
     "text": [
      "name:  maged\n",
      "other:  maged\n",
      "name:  changed\n",
      "other:  maged\n"
     ]
    }
   ],
   "source": [
    "name = \"maged\"\n",
    "print(\"name: \", name)\n",
    "other = name\n",
    "print(\"other: \", other)\n",
    "# now change name\n",
    "name = \"changed\"\n",
    "print(\"name: \", name)\n",
    "print(\"other: \", other) # stays referencing the old object, i.e. \"maged\""
   ]
  },
  {
   "cell_type": "code",
   "execution_count": null,
   "metadata": {},
   "outputs": [],
   "source": []
  }
 ],
 "metadata": {
  "kernelspec": {
   "display_name": "Python 3",
   "language": "python",
   "name": "python3"
  },
  "language_info": {
   "codemirror_mode": {
    "name": "ipython",
    "version": 3
   },
   "file_extension": ".py",
   "mimetype": "text/x-python",
   "name": "python",
   "nbconvert_exporter": "python",
   "pygments_lexer": "ipython3",
   "version": "3.7.0"
  }
 },
 "nbformat": 4,
 "nbformat_minor": 2
}
